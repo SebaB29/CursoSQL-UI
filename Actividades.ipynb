{
 "cells": [
  {
   "cell_type": "markdown",
   "metadata": {},
   "source": [
    "# Actividad 1"
   ]
  },
  {
   "cell_type": "markdown",
   "metadata": {},
   "source": [
    "1. Descargue e Instale algún manejador de bases de datos. (Les recomiendo DB Browser for SQLite, pero pueden instalarse cualquiera de los vistos en la clase).\n",
    "Link: https://sqlitebrowser.org/dl/\n",
    "\n",
    "2. Abra el programa: por ejemplo, el DB Browser for SQLite.\\\n",
    "    a. Presionar en el botón Nueva base de datos.\\\n",
    "    b. Colocar un nombre de su primer base de datos y guárdelo en una carpeta de la primera clase. Por ejemplo, colcar el nombre: “miprimerabase”. El archivo será miprimerabase.db\\\n",
    "    c. A continuación, aparecerá una nueva ventana. La misma sirve para crear tablas.\\\n",
    "    d. Ahora presione donde dice Añadir.\\\n",
    "    e. Coloque su nombre en el campo vacío.\\\n",
    "    f. A continuación, en la primera celda de la columna Nombre remplace “Field1” y colóquele dni, ese nombre será una columna de su tabla.\\\n",
    "    g. Además, elija dentro de las opciones del Tipo, el valor INTEGER.\\\n",
    "    h. A continuación, presione en Aceptar.\n",
    "\n",
    "    ENVÍE UNA CAPTURA COMO LA QUE APARECE EN LA IMAGEN, EN DONDE SE VEA LA TABLA CON SU NOMBRE Y LA COLUMNA dni.\n",
    "\n",
    "3. Revise las pestañas: Estructura y Ejecutar SQL. Ambas son muy importantes para ejecutar código y visualizar los datos.\n",
    "\n",
    "Presione Control + S, para guardar cambios en la BD. Puede cerrar el programa.\n",
    "\n",
    "Para ver el enunciado con más detalle: <a href=\"Enunciados\\Actividad 1.pdf\">Actividad 1</a>"
   ]
  },
  {
   "cell_type": "markdown",
   "metadata": {},
   "source": [
    "<img src=\"img\\RActividad1.jpg\">"
   ]
  }
 ],
 "metadata": {
  "language_info": {
   "name": "python"
  }
 },
 "nbformat": 4,
 "nbformat_minor": 2
}
