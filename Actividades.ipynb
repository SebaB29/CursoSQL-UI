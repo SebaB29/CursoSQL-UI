{
 "cells": [
  {
   "cell_type": "markdown",
   "metadata": {},
   "source": [
    "# Actividad 1"
   ]
  },
  {
   "cell_type": "markdown",
   "metadata": {},
   "source": [
    "1. Descargue e Instale algún manejador de bases de datos. (Les recomiendo DB Browser for SQLite, pero pueden instalarse cualquiera de los vistos en la clase).\n",
    "Link: https://sqlitebrowser.org/dl/\n",
    "\n",
    "2. Abra el programa: por ejemplo, el DB Browser for SQLite.\\\n",
    "    a. Presionar en el botón Nueva base de datos.\\\n",
    "    b. Colocar un nombre de su primer base de datos y guárdelo en una carpeta de la primera clase. Por ejemplo, colcar el nombre: “miprimerabase”. El archivo será miprimerabase.db\\\n",
    "    c. A continuación, aparecerá una nueva ventana. La misma sirve para crear tablas.\\\n",
    "    d. Ahora presione donde dice Añadir.\\\n",
    "    e. Coloque su nombre en el campo vacío.\\\n",
    "    f. A continuación, en la primera celda de la columna Nombre remplace “Field1” y colóquele dni, ese nombre será una columna de su tabla.\\\n",
    "    g. Además, elija dentro de las opciones del Tipo, el valor INTEGER.\\\n",
    "    h. A continuación, presione en Aceptar.\n",
    "\n",
    "    ENVÍE UNA CAPTURA COMO LA QUE APARECE EN LA IMAGEN, EN DONDE SE VEA LA TABLA CON SU NOMBRE Y LA COLUMNA dni.\n",
    "\n",
    "3. Revise las pestañas: Estructura y Ejecutar SQL. Ambas son muy importantes para ejecutar código y visualizar los datos.\n",
    "\n",
    "Presione Control + S, para guardar cambios en la BD. Puede cerrar el programa.\n",
    "\n",
    "Archivo del enunciado: <a href=\"Enunciados\\Actividad 1.pdf\">Actividad 1</a>"
   ]
  },
  {
   "cell_type": "markdown",
   "metadata": {},
   "source": [
    "## Captura"
   ]
  },
  {
   "cell_type": "markdown",
   "metadata": {},
   "source": [
    "<img src=\"img\\RActividad1.jpg\">"
   ]
  },
  {
   "cell_type": "markdown",
   "metadata": {},
   "source": [
    "# Actividad 2"
   ]
  },
  {
   "cell_type": "markdown",
   "metadata": {},
   "source": [
    "1. Genere una base de datos, colóquele un nombre y guárdelo. Luego agregue las siguientes tablas: (utilice el código que se les proporciona)\\\n",
    "    Para crear las tablas, abra el archivo tablas.txt y para cada bloque de código copie y péguelo en el espacio de consultas SQL y ejecútelo.\n",
    "\n",
    "2. Escriba 4 consultas (sentencias) de SQL distintas utilizando SELECT, FROM y WHERE.\n",
    "\n",
    "3. Guarde las consultas en un archivo txt y súbalo publíquelo en el foro.\n",
    "\n",
    "Archivo del enunciado: <a href=\"Enunciados\\Actividad 2.pdf\">Actividad 2</a>"
   ]
  },
  {
   "cell_type": "markdown",
   "metadata": {},
   "source": [
    "## Código Proporcionado"
   ]
  },
  {
   "cell_type": "code",
   "execution_count": null,
   "metadata": {},
   "outputs": [],
   "source": [
    "CREATE TABLE Alumno (\n",
    "  idAlumno INT PRIMARY KEY,\n",
    "  nombre VARCHAR(50),\n",
    "  apellido VARCHAR(50),\n",
    "  fechaNacimiento DATE,\n",
    "  direccion VARCHAR(100),\n",
    "  telefono VARCHAR(20)\n",
    ");\n",
    "\n",
    "\n",
    "CREATE TABLE Curso (\n",
    "  idCurso INT PRIMARY KEY,\n",
    "  nombre VARCHAR(100),\n",
    "  descripcion TEXT,\n",
    "  fechaInicio DATE,\n",
    "  fechaFin DATE\n",
    ");\n",
    "\n",
    "\n",
    "CREATE TABLE Inscripcion (\n",
    "  idInscripcion INT PRIMARY KEY,\n",
    "  idAlumno INT,\n",
    "  idCurso INT,\n",
    "  fechaInscripcion DATE,\n",
    "  FOREIGN KEY (idAlumno) REFERENCES Alumno(idAlumno),\n",
    "  FOREIGN KEY (idCurso) REFERENCES Curso(idCurso)\n",
    ");"
   ]
  },
  {
   "cell_type": "markdown",
   "metadata": {},
   "source": [
    "## Sentencias SQL"
   ]
  },
  {
   "cell_type": "code",
   "execution_count": null,
   "metadata": {},
   "outputs": [],
   "source": [
    "SELECT * FROM Alumno;\n",
    "\n",
    "SELECT nombre, descripcion, fechaInicio FROM Curso;\n",
    "\n",
    "SELECT descripcion, fechaInicio, fechaFin FROM Curso WHERE nombre = \"Python\";\n",
    "\n",
    "SELECT direccion, telefono FROM Alumno WHERE nombre = \"S%\" AND apellido = \"B%\";"
   ]
  },
  {
   "cell_type": "markdown",
   "metadata": {},
   "source": [
    "# Actividad 3"
   ]
  },
  {
   "cell_type": "markdown",
   "metadata": {},
   "source": [
    "1. Supongamos que tenemos una tabla llamada \"empleados\" con las siguientes columnas: \"nombre\", \"apellido\", \"edad\" y \"salario\". Escribe una consulta que seleccione el nombre y apellido de los empleados y les asigne los alias \"Nombre\" y \"Apellido\" respectivamente.\n",
    "\n",
    "2. Supongamos que tenemos una tabla llamada \"productos\" con las siguientes columnas: \"id\", \"nombre\", \"precio\" y \"stock\". Escribe una consulta que seleccione todos los registros de la tabla y muestre todas las columnas.\n",
    "\n",
    "3. Supongamos que tenemos una tabla llamada \"ventas\" con las siguientes columnas: \"id\", \"fecha\", \"producto_id\" y \"cantidad\". Escribe una consulta que seleccione todos los registros de la tabla y muestre todas las columnas, asignando un alias al nombre de la columna \"producto_id\" llamado \"ID de producto\".\n",
    "\n",
    "Archivo del enunciado: <a href=\"Enunciados\\Actividad 3.pdf\">Actividad 3</a>"
   ]
  },
  {
   "cell_type": "markdown",
   "metadata": {},
   "source": [
    "## Sentencias SQL"
   ]
  },
  {
   "cell_type": "code",
   "execution_count": null,
   "metadata": {},
   "outputs": [],
   "source": [
    "SELECT nombre AS Nombre, apellido AS Apellido FROM empleados;\n",
    "\n",
    "SELECT * FROM productos;\n",
    "\n",
    "SELECT id, fecha, producto_id AS \"ID de producto\", cantidad FROM ventas"
   ]
  },
  {
   "cell_type": "markdown",
   "metadata": {},
   "source": [
    "# Actividad 4"
   ]
  },
  {
   "cell_type": "markdown",
   "metadata": {},
   "source": [
    "Crear una base de datos vacía. Copie el texto que está en el archivo tablas.txt y péguelo en la sección de ejecución de código sql dentro del programa. Ejecútelo.\n",
    "\n",
    "A continuación, realice los siguientes puntos y verifique sus resultados en\n",
    "el programa.\n",
    "\n",
    "1. Obtener una lista de los nombres únicos de los clientes en orden\n",
    "alfabético.\n",
    "2. Obtener los tres productos más caros de una tabla de productos:\n",
    "3. Obtener los cinco pedidos más recientes.\n",
    "\n",
    "Archivo del enunciado: <a href=\"Enunciados\\Actividad 4.pdf\">Actividad 4</a>"
   ]
  },
  {
   "cell_type": "markdown",
   "metadata": {},
   "source": [
    "## Código Proporcionado"
   ]
  },
  {
   "cell_type": "code",
   "execution_count": null,
   "metadata": {},
   "outputs": [],
   "source": [
    "--Tabla Clientes\n",
    "\n",
    "CREATE TABLE Clientes (\n",
    "  id INT PRIMARY KEY,\n",
    "  nombre VARCHAR(50),\n",
    "  apellido VARCHAR(50),\n",
    "  direccion VARCHAR(100),\n",
    "  telefono VARCHAR(15)\n",
    ");\n",
    "\n",
    "INSERT INTO Clientes (id, nombre, apellido, direccion, telefono) VALUES\n",
    "(1, 'Juan', 'Perez', 'Calle 123', '1234567890'),\n",
    "(2, 'María', ' García', 'Avenida 456', '0987654321'),\n",
    "(3, 'Pedro', 'Sanchez', 'Plaza 789', '5555555555'),\n",
    "(4, 'Laura', 'Martinez', 'Carrera 321', '7777777777'),\n",
    "(5, 'Ana', 'Rodríguez', 'Paseo 654', '3333333333'),\n",
    "(6, 'Carlos', 'López', 'Boulevard 987', '4444444444'),\n",
    "(7, 'Sofía', 'Torres', 'Camino 876', '6666666666'),\n",
    "(8, 'Luisa', 'Vargas', 'Ruta 543', '2222222222'),\n",
    "(9, 'Jorge', 'Ríos', 'Sendero 987', '9999999999'),\n",
    "(10, 'Marta', 'Ramirez', 'Autopista 654', '1111111111'),\n",
    "(11, 'María', 'Vivas', 'Paseo 111', '1357924680'),\n",
    "(12, 'Ana', 'García', 'Plaza 999', '9878767654'),\n",
    "(13, 'Pedro', 'Amarilla', 'Camino 333', '1357924680'),\n",
    "(14, 'David', 'Godoy', 'Avenida 55', '2213324431');\n",
    "\n",
    "\n",
    "--Tabla Productos\n",
    "\n",
    "CREATE TABLE Productos (\n",
    "  id INT PRIMARY KEY,\n",
    "  nombre VARCHAR(50),\n",
    "  precio DECIMAL(8,2),\n",
    "  stock INT\n",
    ");\n",
    "\n",
    "INSERT INTO Productos (id, nombre, precio, stock) VALUES\n",
    "(1, 'Camiseta', 19.99, 50),\n",
    "(2, 'Pantalón', 29.99, 30),\n",
    "(3, 'Zapatos', 49.99, 20),\n",
    "(4, 'Bolso', 39.99, 15),\n",
    "(5, 'Sombrero', 14.99, 40),\n",
    "(6, 'Bufanda', 9.99, 60),\n",
    "(7, 'Guantes', 7.99, 25),\n",
    "(8, 'Bermuda', 24.99, 10),\n",
    "(9, 'Abrigo', 99.99, 5),\n",
    "(10, 'Calza', 12.99, 35);\n",
    "\n",
    "\n",
    "--Tabla Pedidos\n",
    "\n",
    "CREATE TABLE Pedidos (\n",
    "  id INT PRIMARY KEY,\n",
    "  cliente_id INT,\n",
    "  producto_id INT,\n",
    "  cantidad INT,\n",
    "  fecha_pedido DATE\n",
    ");\n",
    "\n",
    "INSERT INTO Pedidos (id, cliente_id, producto_id, cantidad, fecha_pedido) VALUES\n",
    "(1, 2, 3, 2, '2023-05-01'),\n",
    "(2, 5, 7, 1, '2023-05-02'),\n",
    "(3, 3, 1, 3, '2023-05-03'),\n",
    "(4, 14, 3, 1, '2023-05-04'),\n",
    "(5, 4, 6, 2, '2023-05-04'),\n",
    "(6, 1, 2, 1, '2023-05-05'),\n",
    "(7, 6, 9, 1, '2023-05-06'),\n",
    "(8, 9, 5, 2, '2023-05-07'),\n",
    "(9, 10, 8, 1, '2023-05-07'),\n",
    "(10, 12, 10, 3, '2023-05-10'),\n",
    "(11, 11, 2, 1, '2023-05-11'),\n",
    "(12, 7, 9, 1, '2023-05-12'),\n",
    "(13, 8, 5, 2, '2023-05-12'),\n",
    "(14, 12, 8, 1, '2023-05-14'),\n",
    "(15, 13, 6, 1, '2023-05-16');"
   ]
  },
  {
   "cell_type": "markdown",
   "metadata": {},
   "source": [
    "## Sentencias SQL"
   ]
  },
  {
   "cell_type": "code",
   "execution_count": null,
   "metadata": {},
   "outputs": [],
   "source": [
    "SELECT DISTINCT nombre FROM Clientes ORDER BY nombre ASC;\n",
    "\n",
    "SELECT nombre, precio FROM Productos ORDER BY precio DESC LIMIT 3;\n",
    "\n",
    "SELECT * FROM Pedidos ORDER BY fecha_pedido DESC LIMIT 5;"
   ]
  },
  {
   "cell_type": "markdown",
   "metadata": {},
   "source": [
    "# Actividad 5"
   ]
  },
  {
   "cell_type": "markdown",
   "metadata": {},
   "source": [
    "Crear una base de datos vacía. Copie el texto que está en el archivo base.txt y péguelo en la sección de ejecución de código sql dentro del programa. Ejecútelo.\n",
    "\n",
    "A continuación, realice los siguientes puntos y verifique sus resultados en el programa.\n",
    "1. Obtener una lista de los empleados que se llaman “Adrián”.\n",
    "2. Obtener una lista de los empleados que su nombre contiene “Juan”.\n",
    "3. Devolver una lista con el nombre de los departamentos que tienen\n",
    "un presupuesto entre 100000 y 200000 dólares.\n",
    "4. Devolver una lista con el nombre de los departamentos de aquellos\n",
    "que tienen menos de 5000 dolares de gastos.\n",
    "\n",
    "Archivo del enunciado: <a href=\"Enunciados\\Actividad 5.pdf\">Actividad 5</a>"
   ]
  },
  {
   "cell_type": "markdown",
   "metadata": {},
   "source": [
    "## Código Proporcionado"
   ]
  },
  {
   "cell_type": "code",
   "execution_count": null,
   "metadata": {},
   "outputs": [],
   "source": [
    "CREATE TABLE departamento (\n",
    "  id INT UNSIGNED AUTO_INCREMENT PRIMARY KEY,\n",
    "  nombre VARCHAR(100) NOT NULL,\n",
    "  presupuesto DOUBLE UNSIGNED NOT NULL,\n",
    "  gastos DOUBLE UNSIGNED NOT NULL\n",
    ");\n",
    "\n",
    "CREATE TABLE empleado (\n",
    "  id INT UNSIGNED AUTO_INCREMENT PRIMARY KEY,\n",
    "  nif VARCHAR(9) NOT NULL UNIQUE,\n",
    "  nombre VARCHAR(100) NOT NULL,\n",
    "  apellido1 VARCHAR(100) NOT NULL,\n",
    "  apellido2 VARCHAR(100),\n",
    "  id_departamento INT UNSIGNED,\n",
    "  FOREIGN KEY (id_departamento) REFERENCES departamento(id)\n",
    ");\n",
    "\n",
    "INSERT INTO departamento VALUES(1, 'Desarrollo', 120000, 6000);\n",
    "INSERT INTO departamento VALUES(2, 'Sistemas', 150000, 21000);\n",
    "INSERT INTO departamento VALUES(3, 'Recursos Humanos', 280000, 25000);\n",
    "INSERT INTO departamento VALUES(4, 'Contabilidad', 110000, 3000);\n",
    "INSERT INTO departamento VALUES(5, 'I+D', 375000, 380000);\n",
    "INSERT INTO departamento VALUES(6, 'Proyectos', 0, 0);\n",
    "INSERT INTO departamento VALUES(7, 'Publicidad', 0, 1000);\n",
    "\n",
    "INSERT INTO empleado VALUES(1, '32481596F', 'Aarón', 'Rivero', 'Gómez', 1);\n",
    "INSERT INTO empleado VALUES(2, 'Y5575632D', 'Adela', 'Salas', 'Díaz', 2);\n",
    "INSERT INTO empleado VALUES(3, 'R6970642B', 'Adolfo', 'Rubio', 'Flores', 3);\n",
    "INSERT INTO empleado VALUES(4, '77705545E', 'Adrián', 'Suárez', NULL, 4);\n",
    "INSERT INTO empleado VALUES(5, '17087203C', 'Marcos', 'Loyola', 'Méndez', 5);\n",
    "INSERT INTO empleado VALUES(6, '38382980M', 'María', 'Santana', 'Moreno', 1);\n",
    "INSERT INTO empleado VALUES(7, '80576669X', 'Pilar', 'Ruiz', NULL, 2);\n",
    "INSERT INTO empleado VALUES(8, '71651431Z', 'Pepe', 'Ruiz', 'Santana', 3);\n",
    "INSERT INTO empleado VALUES(9, '56399183D', 'Juan', 'Gómez', 'López', 2);\n",
    "INSERT INTO empleado VALUES(10, '46384486H', 'Diego','Flores', 'Salas', 5);\n",
    "INSERT INTO empleado VALUES(11, '67389283A', 'Marta','Herrera', 'Gil', 1);\n",
    "INSERT INTO empleado VALUES(12, '41234836R', 'Irene','Salas', 'Flores', NULL);\n",
    "INSERT INTO empleado VALUES(13, '82635162B', 'Juan Antonio','Sáez', 'Guerrero', NULL);\n",
    "INSERT INTO empleado VALUES(14, '32399183F', 'Adrián', 'Gómez', 'Calvo', 2);"
   ]
  },
  {
   "cell_type": "markdown",
   "metadata": {},
   "source": [
    "## Sentencias SQL"
   ]
  },
  {
   "cell_type": "code",
   "execution_count": null,
   "metadata": {},
   "outputs": [],
   "source": [
    "SELECT * FROM empleado WHERE nombre like \"Adrián%\";\n",
    "\n",
    "SELECT * FROM empleado WHERE nombre like \"%Juan%\";\n",
    "\n",
    "SELECT nombre FROM departamento WHERE presupuesto BETWEEN 100000 AND 200000;\n",
    "\n",
    "SELECT nombre FROM departamento WHERE gastos < 5000;"
   ]
  },
  {
   "cell_type": "markdown",
   "metadata": {},
   "source": [
    "# Actividad 6"
   ]
  },
  {
   "cell_type": "markdown",
   "metadata": {},
   "source": [
    "Crear una base de datos vacía. Copie el texto que está en el archivo tablas.txt y péguelo en la sección de ejecución de código sql dentro del programa. Ejecútelo.\n",
    "\n",
    "A continuación, realice los siguientes puntos y verifique sus resultados en el programa.\n",
    "1. Obtener los pedidos realizados por cada cliente y su información.\n",
    "2. Obtener todos los clientes y sus pedidos (si los tienen).\n",
    "3. Obtener todos los pedidos y los clientes correspondientes (si existen).\n",
    "\n",
    "En las 3 consultas debe devolver: nombre del cliente, id del pedido, producto y cantidad.\n",
    "\n",
    "Archivo del enunciado: <a href=\"Enunciados\\Actividad 6.pdf\">Actividad 6</a>"
   ]
  },
  {
   "cell_type": "markdown",
   "metadata": {},
   "source": [
    "## Código Proporcionado"
   ]
  },
  {
   "cell_type": "code",
   "execution_count": null,
   "metadata": {},
   "outputs": [],
   "source": [
    "-- Tabla \"Clientes\"\n",
    "CREATE TABLE Clientes (\n",
    "  id_cliente INT PRIMARY KEY,\n",
    "  nombre VARCHAR(50),\n",
    "  direccion VARCHAR(100)\n",
    ");\n",
    "\n",
    "-- Tabla \"Pedidos\"\n",
    "CREATE TABLE Pedidos (\n",
    "  id_pedido INT PRIMARY KEY,\n",
    "  id_cliente INT,\n",
    "  producto VARCHAR(50),\n",
    "  cantidad INT,\n",
    "  FOREIGN KEY (id_cliente) REFERENCES Clientes(id_cliente)\n",
    ");"
   ]
  },
  {
   "cell_type": "markdown",
   "metadata": {},
   "source": [
    "## Sentencias SQL"
   ]
  },
  {
   "cell_type": "code",
   "execution_count": null,
   "metadata": {},
   "outputs": [],
   "source": [
    "# Punto 1:\n",
    "SELECT C.nombre, P.id_pedido, P.producto, P.cantidad\n",
    "FROM Clientes C\n",
    "INNER JOIN Pedidos P ON C.id_cliente = P.id_cliente;\n",
    "\n",
    "# Punto 2:\n",
    "SELECT C.nombre, P.id_pedido, P.producto, P.cantidad\n",
    "FROM Clientes C\n",
    "LEFT JOIN Pedidos P ON C.id_cliente = P.id_cliente;\n",
    "\n",
    "# Punto 3:\n",
    "SELECT C.nombre, P.id_pedido, P.producto, P.cantidad\n",
    "FROM Clientes C\n",
    "RIGHT JOIN Pedidos P ON C.id_cliente = P.id_cliente;"
   ]
  },
  {
   "cell_type": "markdown",
   "metadata": {},
   "source": [
    "# Actividad 7"
   ]
  },
  {
   "cell_type": "markdown",
   "metadata": {},
   "source": [
    "Crear una base de datos vacía. Copie el texto que está en el archivo tablas.txt y péguelo en la sección de ejecución de código sql dentro del programa. Ejecútelo.\n",
    "\n",
    "A continuación, realice los siguientes puntos y verifique sus resultados en el programa.\n",
    "1. Contar el número de clientes.\n",
    "2. Calcular el total de ventas en la tabla \"Pedidos”.\n",
    "3. Calcular el promedio de edades de los clientes.\n",
    "4. Obtener el pedido de mayor valor.\n",
    "5. Obtener el pedido de menor valor.\n",
    "\n",
    "Archivo del enunciado: <a href=\"Enunciados\\Actividad 7.pdf\">Actividad 7</a>"
   ]
  },
  {
   "cell_type": "markdown",
   "metadata": {},
   "source": [
    "## Código Proporcionado"
   ]
  },
  {
   "cell_type": "code",
   "execution_count": null,
   "metadata": {},
   "outputs": [],
   "source": [
    "-- Crear la tabla \"Clientes\"\n",
    "CREATE TABLE Clientes (\n",
    "  ID INT PRIMARY KEY,\n",
    "  Nombre VARCHAR(50),\n",
    "  Edad INT,\n",
    "  Puntaje INT\n",
    ");\n",
    "\n",
    "-- Insertar datos en la tabla \"Clientes\"\n",
    "INSERT INTO Clientes (ID, Nombre, Edad, Puntaje) VALUES\n",
    "(1, 'Juan', 25, 220),\n",
    "(2, 'María', 30, 289),\n",
    "(3, 'Pedro', 35, 199),\n",
    "(4, 'Laura', 28, 101),\n",
    "(5, 'Carlos', 32, 290),\n",
    "(6, 'Juan Carlos', 28, 112),\n",
    "(7, 'Mariana', 20, 89),\n",
    "(8, 'Luis', 25, 99),\n",
    "(9, 'Sofía', 38, 198),\n",
    "(10, 'Agustín', 22, 210),\n",
    "(11, 'Sebastián', 25, 180),\n",
    "(12, 'María', 30, 91),\n",
    "(13, 'Pedro', 35, 93),\n",
    "(14, 'Juan', 22, 89),\n",
    "(15, 'Kevin', 28, 170);\n",
    "\n",
    "-- Crear la tabla \"Pedidos\"\n",
    "CREATE TABLE Pedidos (\n",
    "  ID INT PRIMARY KEY,\n",
    "  ClienteID INT,\n",
    "  Total DECIMAL(10, 2),\n",
    "  Cantidad_productos INT\n",
    ");\n",
    "\n",
    "-- Insertar datos en la tabla \"Pedidos\"\n",
    "INSERT INTO Pedidos (ID, ClienteID, Total, Cantidad_productos) VALUES\n",
    "(1, 1, 100.50, 2),\n",
    "(2, 1, 75.20, 4),\n",
    "(3, 2, 50.00, 1),\n",
    "(4, 3, 200.75, 2),\n",
    "(5, 4, 150.90, 3),\n",
    "(6, 7, 70.90, 2),\n",
    "(7, 12, 100.00, 2),\n",
    "(8, 2, 120.25, 1),\n",
    "(9, 14, 50.90, 3),\n",
    "(10, 9, 150.00, 1);"
   ]
  },
  {
   "cell_type": "markdown",
   "metadata": {},
   "source": [
    "## Sentencias SQL"
   ]
  },
  {
   "cell_type": "code",
   "execution_count": null,
   "metadata": {},
   "outputs": [],
   "source": [
    "#Punto 1:\n",
    "SELECT count(*) FROM Clientes\n",
    "\n",
    "#Punto 2:\n",
    "SELECT sum(total) FROM Pedidos\n",
    "\n",
    "#Punto3:\n",
    "SELECT avg(Edad) FROM Clientes\n",
    "\n",
    "#Punto 4:\n",
    "SELECT max(total) FROM Pedidos\n",
    "\n",
    "#Punto 5:\n",
    "SELECT min(total) FROM Pedidos"
   ]
  },
  {
   "cell_type": "markdown",
   "metadata": {},
   "source": [
    "# Actividad 8"
   ]
  },
  {
   "cell_type": "markdown",
   "metadata": {},
   "source": [
    "Crear una base de datos vacía. Copie el texto que está en el archivo tablas.txt y péguelo en la sección de ejecución de código sql dentro del programa. Ejecútelo.\n",
    "\n",
    "A continuación, realice los siguientes puntos y verifique sus resultados en el programa.\n",
    "\n",
    "Group by\n",
    "1. Obtener la cantidad de alumnos por curso.\n",
    "2. Calcular el promedio de edad de los alumnos por curso.\n",
    "3. Obtener el curso con la mayor cantidad de alumnos (Difícil).\n",
    "\n",
    "Having\n",
    "1. Obtener los cursos con más de 3 alumnos inscritos.\n",
    "2. Calcular el promedio de edad de los alumnos por curso y mostrar solo los cursos con un promedio de edad superior a 19.\n",
    "3. Obtener los cursos cuyo profesor sea \"Profesor B\" y que tengan al menos 2 alumnos inscritos (Difícil).\n",
    "\n",
    "Archivo del enunciado: <a href=\"Enunciados\\Actividad 8.pdf\">Actividad 8</a>"
   ]
  },
  {
   "cell_type": "markdown",
   "metadata": {},
   "source": [
    "## Código Proporcionado"
   ]
  },
  {
   "cell_type": "code",
   "execution_count": null,
   "metadata": {},
   "outputs": [],
   "source": [
    "-- Crear la tabla Alumnos\n",
    "CREATE TABLE Alumnos (\n",
    "    id INT PRIMARY KEY,\n",
    "    nombre VARCHAR(50),\n",
    "    edad INT,\n",
    "    curso_id INT\n",
    ");\n",
    "\n",
    "-- Insertar registros en la tabla Alumnos\n",
    "INSERT INTO Alumnos (id, nombre, edad, curso_id)\n",
    "VALUES\n",
    "    (1, 'Juan', 18, 1),\n",
    "    (2, 'María', 19, 2),\n",
    "    (3, 'Pedro', 18, 1),\n",
    "    (4, 'Laura', 20, 3),\n",
    "    (5, 'Carlos', 19, 2),\n",
    "    (6, 'Ana', 18, 1),\n",
    "    (7, 'Luis', 19, 3),\n",
    "    (8, 'Marta', 20, 2),\n",
    "    (9, 'David', 18, 1),\n",
    "    (10, 'Sofía', 19, 2);\n",
    "\n",
    "-- Crear la tabla Cursos\n",
    "CREATE TABLE Cursos (\n",
    "    id INT PRIMARY KEY,\n",
    "    nombre VARCHAR(50),\n",
    "    profesor VARCHAR(50)\n",
    ");\n",
    "\n",
    "-- Insertar registros en la tabla Cursos\n",
    "INSERT INTO Cursos (id, nombre, profesor)\n",
    "VALUES\n",
    "    (1, 'Matemáticas', 'Profesor A'),\n",
    "    (2, 'Historia', 'Profesor B'),\n",
    "    (3, 'Inglés', 'Profesor C');"
   ]
  },
  {
   "cell_type": "markdown",
   "metadata": {},
   "source": [
    "## Sentencias SQL"
   ]
  },
  {
   "cell_type": "code",
   "execution_count": null,
   "metadata": {},
   "outputs": [],
   "source": [
    "#GROUP BY:\n",
    "#Punto 1:\n",
    "SELECT curso_id, count(*)\n",
    "FROM Alumnos\n",
    "GROUP BY curso_id;\n",
    "\n",
    "#Punto 2:\n",
    "SELECT curso_id, avg(edad)\n",
    "FROM Alumnos\n",
    "GROUP BY curso_id;\n",
    "\n",
    "#Punto 3:\n",
    "SELECT curso_id, count(*) as CantAlumnos\n",
    "FROM Alumnos A\n",
    "GROUP BY curso_id\n",
    "ORDER BY CantAlumnos DESC LIMIT 1;\n",
    "\n",
    "#HAVING:\n",
    "#Punto 1:\n",
    "SELECT curso_id, count(*) as CantAlumnos\n",
    "FROM Alumnos\n",
    "GROUP BY curso_id HAVING CantAlumnos > 3;\n",
    "\n",
    "#Punto 2:\n",
    "SELECT curso_id, avg(edad) as PromEdad\n",
    "FROM Alumnos\n",
    "GROUP BY curso_id HAVING PromEdad > 19;\n",
    "\n",
    "#Punto 3:\n",
    "SELECT curso_id, C.nombre\n",
    "FROM Alumnos A\n",
    "INNER JOIN Cursos C ON A.curso_id = C.id\n",
    "GROUP BY curso_id HAVING (count(*) >= 2 AND C.profesor like \"Profesor B\")"
   ]
  },
  {
   "cell_type": "markdown",
   "metadata": {},
   "source": [
    "# Actividad 9"
   ]
  },
  {
   "cell_type": "markdown",
   "metadata": {},
   "source": [
    "Crear una base de datos vacía. Copie el texto que está en el archivo tablas.txt y péguelo en la sección de ejecución de código sql dentro del programa. Ejecútelo.\n",
    "\n",
    "A continuación, realice los siguientes puntos y verifique sus resultados en el programa.\n",
    "\n",
    "INSERT:\n",
    "1. Agregar al estudiante Gerónimo Ozuna de 28 años de edad, al curso de Python.\n",
    "2. Agregar 3 nuevos estudiantes al curso de Python.\n",
    "\n",
    "UPDATE:\n",
    "1. Corregir el nombre del estudiante con id=8 y cambiarlo de \"Sofía Rodríguez\" a \"Laura Rodríguez\".\n",
    "2. Cambiar el curso al que pertenece el estudiante con id=2 y asignarle el curso con id=4.\n",
    "3. Cambiar la duración del curso de que tiene 40 horas de duración y colocarle 30.\n",
    "4. Aumentar en 1 año la edad de todos los estudiantes que sean menores de 25 años.\n",
    "\n",
    "DELETE:\n",
    "1. Eliminar al estudiante con id=24 de la tabla \"Estudiantes\".\n",
    "2. Eliminar todos los estudiantes que se llamen \"Ana\".\n",
    "\n",
    "Archivo del enunciado: <a href=\"Enunciados\\Actividad 9.pdf\">Actividad 9</a>"
   ]
  },
  {
   "cell_type": "markdown",
   "metadata": {},
   "source": [
    "## Código Proporcionado"
   ]
  },
  {
   "cell_type": "code",
   "execution_count": null,
   "metadata": {},
   "outputs": [],
   "source": [
    "-- Crear la tabla de Cursos\n",
    "CREATE TABLE Cursos (\n",
    "    id INT PRIMARY KEY,\n",
    "    nombre VARCHAR(100),\n",
    "    descripcion VARCHAR(255),\n",
    "    instructor VARCHAR(100),\n",
    "    duracion INT\n",
    ");\n",
    "\n",
    "-- Crear la tabla de Estudiantes\n",
    "CREATE TABLE Estudiantes (\n",
    "    id INT PRIMARY KEY,\n",
    "    nombre VARCHAR(100),\n",
    "    edad INT,\n",
    "    curso_id INT,\n",
    "    FOREIGN KEY (curso_id) REFERENCES Cursos(id)\n",
    ");\n",
    "\n",
    "-- Agregar registros a la tabla Cursos\n",
    "INSERT INTO Cursos (id, nombre, descripcion, instructor, duracion)\n",
    "VALUES\n",
    "    (1, 'Introducción a la Programación', 'Curso introductorio sobre programación', 'Laura Martinez', 40),\n",
    "    (2, 'Diseño Gráfico Avanzado', 'Curso avanzado de diseño gráfico', 'Carlos Sanchez', 30),\n",
    "    (3, 'Inglés Intermedio', 'Curso de inglés nivel intermedio', 'Karen Rodriguez', 50),\n",
    "    (4, 'Programación en JavaScript', 'Curso introductorio de programación en JavaScript', 'Nahuel González', 24),\n",
    "    (5, 'Programación en Python', 'Curso básico de programación en Python', 'David Huertas', 32);\n",
    "\n",
    "-- Agregar registros adicionales a la tabla Estudiantes\n",
    "INSERT INTO Estudiantes (id, nombre, edad, curso_id)\n",
    "VALUES\n",
    "    (1, 'Juan Perez', 20, 1),\n",
    "    (2, 'Maria Lopez', 22, 2),\n",
    "    (3, 'Carlos Ramirez', 19, 1),\n",
    "    (4, 'Ana Gonzalez', 21, 3),\n",
    "    (5, 'Pedro Martinez', 23, 2),\n",
    "    (6, 'Luisa Torres', 25, 1),\n",
    "    (7, 'Andrés Gomez', 19, 2),\n",
    "    (8, 'Sofía Rodríguez', 23, 3),\n",
    "    (9, 'Gabriel López', 20, 1),\n",
    "    (10, 'Valeria Vargas', 22, 2),\n",
    "    (11, 'Jonatan Juarez', 20, 1),\n",
    "    (12, 'Mariana Casco', 24, 1),\n",
    "    (13, 'Carla Rios', 27, 1),\n",
    "    (14, 'Analía Gimenez', 24, 3),\n",
    "    (15, 'Franco Meneses', 23, 2),\n",
    "    (16, 'Luana Turdo', 26, 3),\n",
    "    (17, 'Alberto Gomez', 19, 1),\n",
    "    (18, 'Sara Ramirez', 19, 3),\n",
    "    (19, 'Valentina Villa', 20, 4),\n",
    "    (20, 'Ana Laura Martinez', 23, 2),\n",
    "    (21, 'Luis Alberto Muñiz', 25, 1),\n",
    "    (22, 'Lara Guillen', 19, 2),\n",
    "    (23, 'Ana María Rodríguez', 23, 3),\n",
    "    (24, 'José López', 20, 1),\n",
    "    (25, 'Victos Varas', 22, 2),\n",
    "    (26, 'Diego Herrera', 21, 3),\n",
    "    (27, 'Carolina Ramírez', 24, 1),\n",
    "    (28, 'Sebastián Castro', 19, 4),\n",
    "    (29, 'María Fernández', 26, 3),\n",
    "    (30, 'Javier Morales', 20, 1);"
   ]
  },
  {
   "cell_type": "markdown",
   "metadata": {},
   "source": [
    "## Sentencias SQL"
   ]
  },
  {
   "cell_type": "code",
   "execution_count": null,
   "metadata": {},
   "outputs": [],
   "source": [
    "#INSERT:\n",
    "#Punto 1:\n",
    "INSERT INTO Estudiantes(id, nombre, edad, curso_id)\n",
    "VALUES (31, \"Gerónimo Ozuna\", 28, 5);\n",
    "\n",
    "#Punto 2:\n",
    "INSERT INTO Estudiantes(id, nombre, edad, curso_id)\n",
    "VALUES\n",
    "(32, \"Sebastian\", 24, 5),\n",
    "(33, \"Lucia\", 29, 5),\n",
    "(34, \"Pedro\", 19, 5);\n",
    "\n",
    "#UPDATE:\n",
    "#Punto 1:\n",
    "UPDATE Estudiantes\n",
    "SET nombre = \"Laura Rodriguez\"\n",
    "WHERE id = 8;\n",
    "\n",
    "#Punto 2:\n",
    "UPDATE Estudiantes\n",
    "SET curso_id = 4\n",
    "WHERE id = 2;\n",
    "\n",
    "#Punto 3:\n",
    "UPDATE Cursos\n",
    "SET duracion = 30\n",
    "WHERE duracion = 40;\n",
    "\n",
    "#Punto 4:\n",
    "UPDATE Estudiantes\n",
    "SET edad = edad + 1\n",
    "WHERE edad < 25;\n",
    "\n",
    "#DELETE:\n",
    "#Punto 1:\n",
    "DELETE FROM Estudiantes\n",
    "WHERE id = 24;\n",
    "\n",
    "#Punto 2:\n",
    "DELETE FROM Estudiantes\n",
    "WHERE nombre like \"Ana %\";"
   ]
  },
  {
   "cell_type": "markdown",
   "metadata": {},
   "source": [
    "# Actividad 10"
   ]
  },
  {
   "cell_type": "markdown",
   "metadata": {},
   "source": [
    "Crear una base de datos vacía. Copie el texto que está en el archivo tablas.txt y péguelo en la sección de ejecución de código sql dentro del programa. Ejecútelo.\n",
    "\n",
    "A continuación, realice los siguientes puntos y verifique sus resultados en el programa.\n",
    "\n",
    "**Ejericicio 1**\n",
    "\n",
    "Cambiar el nombre de la columna \"ubicacion\" por \"direccion\".\n",
    "\n",
    "**Ejericicio 2**\n",
    "\n",
    "Crear la tabla “Inscripcion” con los siguientes datos:\n",
    "* id_inscripcion: de tipo entero, clave primaria.\n",
    "* id_alumno: de tipo entero.\n",
    "* id_curso: de tipo entero.\n",
    "\n",
    "**Ejercicio 3**\n",
    "\n",
    "Modificar la tabla anterior (Inscripcion):\n",
    "* Definir que la clave externa id_alumno hace referencia a id_alumno de Alumno.\n",
    "* Definir que la clave externa id_curso hace referencia a id_curso de Curso\n",
    "\n",
    "**Ejercicio 4**\n",
    "\n",
    "Insertar 10 registros a la tabla Inscripción:\n",
    "* Agregar 4 alumnos al curso de Ciencias.\n",
    "* Agregar 6 alumnos al curso de Inglés.\n",
    "\n",
    "Nota: En SQLite algunas operaciones no podemos realizar, por ejemplo, eliminar una columna. Si utilizamos Mysql o sql server, por ejemplo, si funcionan.\n",
    "\n",
    "Archivo del enunciado: <a href=\"Enunciados\\Actividad 10.pdf\">Actividad 10</a>"
   ]
  },
  {
   "cell_type": "markdown",
   "metadata": {},
   "source": [
    "## Código Proporcionado"
   ]
  },
  {
   "cell_type": "code",
   "execution_count": null,
   "metadata": {},
   "outputs": [],
   "source": [
    "CREATE TABLE Alumno (\n",
    "  id_alumno INTEGER PRIMARY KEY,\n",
    "  nombre TEXT,\n",
    "  edad INTEGER,\n",
    "  ubicacion TEXT\n",
    ");\n",
    "\n",
    "-- Insertar 15 registros en la tabla \"Alumno\"\n",
    "INSERT INTO Alumno (id_alumno, nombre, edad, ubicacion) VALUES\n",
    "(1, 'Juan', 20, 'Calle A'),\n",
    "(2, 'María', 22, 'Calle B'),\n",
    "(3, 'Pedro', 19, 'Calle C'),\n",
    "(4, 'Laura', 21, 'Calle D'),\n",
    "(5, 'Carlos', 20, 'Calle E'),\n",
    "(6, 'Ana', 18, 'Calle F'),\n",
    "(7, 'Luis', 23, 'Calle G'),\n",
    "(8, 'Sofía', 19, 'Calle H'),\n",
    "(9, 'Miguel', 21, 'Calle I'),\n",
    "(10, 'Lucía', 20, 'Calle J'),\n",
    "(11, 'Fernando', 22, 'Calle K'),\n",
    "(12, 'Elena', 19, 'Calle L'),\n",
    "(13, 'Diego', 21, 'Calle M'),\n",
    "(14, 'Isabel', 18, 'Calle N'),\n",
    "(15, 'Antonio', 23, 'Calle O');\n",
    "\n",
    "\n",
    "CREATE TABLE Curso (\n",
    "  id_curso INTEGER PRIMARY KEY,\n",
    "  nombre TEXT,\n",
    "  duracion INTEGER\n",
    ");\n",
    "\n",
    "-- Insertar 5 registros en la tabla \"Curso\"\n",
    "INSERT INTO Curso (id_curso, nombre, duracion) VALUES\n",
    "(1, 'Matemáticas', 60),\n",
    "(2, 'Historia', 45),\n",
    "(3, 'Inglés', 90),\n",
    "(4, 'Ciencias', 75),\n",
    "(5, 'Arte', 60);"
   ]
  },
  {
   "cell_type": "markdown",
   "metadata": {},
   "source": [
    "## Sentencias SQL"
   ]
  },
  {
   "cell_type": "code",
   "execution_count": null,
   "metadata": {},
   "outputs": [],
   "source": [
    "#Punto 1:\n",
    "ALTER TABLE Alumno\n",
    "RENAME COLUMN ubicacion TO direccion;\n",
    "\n",
    "#Punto 2:\n",
    "CREATE TABLE Inscripcion(\n",
    "id_inscripcion INT PRIMARY KEY,\n",
    "id_alumno INT,\n",
    "id_curso INT\n",
    ");\n",
    "\n",
    "#Punto 4:\n",
    "INSERT INTO Inscripcion(id_inscripcion, id_alumno, id_curso)\n",
    "VALUES\n",
    "(1, 1, 4),\n",
    "(2, 2, 4),\n",
    "(3, 3, 4),\n",
    "(4, 4, 4),\n",
    "(5, 5, 3),\n",
    "(6, 6, 3),\n",
    "(7, 7, 3),\n",
    "(8, 8, 3),\n",
    "(9, 9, 3),\n",
    "(10, 10, 3);"
   ]
  },
  {
   "cell_type": "markdown",
   "metadata": {},
   "source": [
    "# Actividad 11"
   ]
  },
  {
   "cell_type": "markdown",
   "metadata": {},
   "source": [
    "Crear una base de datos vacía. Copie el texto que está en el archivo tablas.txt y péguelo en la sección de ejecución de código sql dentro del programa. Ejecútelo.\n",
    "\n",
    "A continuación, realice los siguientes puntos y verifique sus resultados en el programa.\n",
    "\n",
    "**Ejercicio 1:** Obtener el año de nacimiento de todos los alumnos.\n",
    "* En SQL Server es: SELECT YEAR(fecha_nacimiento) AS ano_nacimiento FROM Alumno;\n",
    "* Resolver para SQLite.\n",
    "\n",
    "**Ejercicio 2:** Consultar los cursos que están en progreso en la fecha actual.\n",
    "* En SQL Server es: SELECT nombre FROM Curso WHERE fecha_inicio <= GETDATE() AND fecha_fin >= GETDATE();\n",
    "* Resolver para SQLite.\n",
    "\n",
    "**Ejercicio 3:** Obtener nombre y fecha de registro de los alumnos que se registraron el mes de mayo.\n",
    "* En SQL Server es: SELECT nombre, fecha_registro FROM Alumno WHERE MONTH(fecha_registro) = 5;\n",
    "* Resolver para SQLite.\n",
    "\n",
    "Nota: En SQLite algunas operaciones con funciones de SQL Server no funcionan, debemos conocer otras funciones que son equivalentes\n",
    "\n",
    "Archivo del enunciado: <a href=\"Enunciados\\Actividad 11.pdf\">Actividad 11</a>"
   ]
  },
  {
   "cell_type": "markdown",
   "metadata": {},
   "source": [
    "## Código Proporcionado"
   ]
  },
  {
   "cell_type": "code",
   "execution_count": null,
   "metadata": {},
   "outputs": [],
   "source": [
    "-- Crear tabla Alumno\n",
    "CREATE TABLE Alumno (\n",
    "  id INT PRIMARY KEY,\n",
    "  nombre VARCHAR(50),\n",
    "  fecha_nacimiento DATE,\n",
    "  fecha_registro DATETIME\n",
    ");\n",
    "\n",
    "-- Crear tabla Curso\n",
    "CREATE TABLE Curso (\n",
    "  id INT PRIMARY KEY,\n",
    "  nombre VARCHAR(50),\n",
    "  fecha_inicio DATETIME,\n",
    "  fecha_fin DATETIME\n",
    ");\n",
    "\n",
    "CREATE TABLE Inscripcion (\n",
    "  id INT PRIMARY KEY,\n",
    "  alumno_id INT,\n",
    "  curso_id INT,\n",
    "  FOREIGN KEY (alumno_id) REFERENCES Alumno(id),\n",
    "  FOREIGN KEY (curso_id) REFERENCES Curso(id)\n",
    ");\n",
    "\n",
    "INSERT INTO Alumno (id, nombre, fecha_nacimiento, fecha_registro)\n",
    "VALUES (1, 'Juan Perez', '2000-01-01', '2023-01-01 10:00:00'),\n",
    "       (2, 'Maria Gomez', '1999-02-15', '2023-02-15 11:30:00'),\n",
    "       (3, 'Carlos Rodriguez', '2001-03-30', '2023-05-30 12:45:00'),\n",
    "       (4, 'Laura Martinez', '2002-04-10', '2023-06-10 14:15:00'),\n",
    "       (5, 'Pedro Lopez', '2003-05-20', '2023-06-20 15:30:00');\n",
    "\n",
    "INSERT INTO Curso (id, nombre, fecha_inicio, fecha_fin)\n",
    "VALUES (1, 'Curso de JavaScript', '2022-06-01 09:00:00', '2022-06-30 12:00:00'),\n",
    "       (2, 'Curso de Python', '2022-07-15 14:00:00', '2022-08-15 17:00:00');\n",
    "\n",
    "INSERT INTO Inscripcion (id, alumno_id, curso_id)\n",
    "VALUES (1, 1, 1),\n",
    "       (2, 2, 1),\n",
    "       (3, 3, 2),\n",
    "       (4, 4, 2),\n",
    "       (5, 5, 2);"
   ]
  },
  {
   "cell_type": "markdown",
   "metadata": {},
   "source": [
    "## Sentencias SQL"
   ]
  },
  {
   "cell_type": "code",
   "execution_count": null,
   "metadata": {},
   "outputs": [],
   "source": [
    "#Punto 1:\n",
    "SELECT strftime('%Y', fecha_nacimiento) AS ano_nacimiento FROM Alumno\n",
    "\n",
    "#Punto 2:\n",
    "SELECT nombre FROM Curso\n",
    "WHERE fecha_inicio <= datetime(\"now\") AND datetime(\"now\") <= fecha_fin\n",
    "\n",
    "#Punto3:\n",
    "SELECT nombre, fecha_registro FROM Alumno\n",
    "WHERE strftime('%m', fecha_registro) = '05';"
   ]
  },
  {
   "cell_type": "markdown",
   "metadata": {},
   "source": [
    "# Actividad 12"
   ]
  },
  {
   "cell_type": "markdown",
   "metadata": {},
   "source": [
    "Crear 3 vistas utilizando la base de datos de la clase pasada (tablas Alumno, Curso e Inscripción ).\n",
    "\n",
    "Archivo del enunciado: <a href=\"Enunciados\\Actividad 12.pdf\">Actividad 12</a>"
   ]
  },
  {
   "cell_type": "markdown",
   "metadata": {},
   "source": [
    "## Sentencias SQL"
   ]
  },
  {
   "cell_type": "code",
   "execution_count": null,
   "metadata": {},
   "outputs": [],
   "source": [
    "#Vista 1:\n",
    "CREATE VIEW Fechas_de_registro_de_los_alumnos AS\n",
    "SELECT nombre, fecha_registro\n",
    "FROM Alumno\n",
    "\n",
    "#Vista 2:\n",
    "CREATE VIEW Fechas_de_nacimiento_de_los_alumnos AS\n",
    "SELECT nombre, fecha_nacimiento\n",
    "FROM Alumno\n",
    "\n",
    "#Vista 3:\n",
    "CREATE VIEW Fechas_de_inicio_de_los_cursos AS\n",
    "SELECT nombre, fecha_inicio\n",
    "FROM Curso"
   ]
  }
 ],
 "metadata": {
  "language_info": {
   "name": "python"
  }
 },
 "nbformat": 4,
 "nbformat_minor": 2
}
