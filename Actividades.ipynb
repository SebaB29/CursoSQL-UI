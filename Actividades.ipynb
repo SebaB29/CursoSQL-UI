{
 "cells": [
  {
   "cell_type": "markdown",
   "metadata": {},
   "source": [
    "# Actividad 1"
   ]
  },
  {
   "cell_type": "markdown",
   "metadata": {},
   "source": [
    "1. Descargue e Instale algún manejador de bases de datos. (Les recomiendo DB Browser for SQLite, pero pueden instalarse cualquiera de los vistos en la clase).\n",
    "Link: https://sqlitebrowser.org/dl/\n",
    "\n",
    "2. Abra el programa: por ejemplo, el DB Browser for SQLite.\\\n",
    "    a. Presionar en el botón Nueva base de datos.\\\n",
    "    b. Colocar un nombre de su primer base de datos y guárdelo en una carpeta de la primera clase. Por ejemplo, colcar el nombre: “miprimerabase”. El archivo será miprimerabase.db\\\n",
    "    c. A continuación, aparecerá una nueva ventana. La misma sirve para crear tablas.\\\n",
    "    d. Ahora presione donde dice Añadir.\\\n",
    "    e. Coloque su nombre en el campo vacío.\\\n",
    "    f. A continuación, en la primera celda de la columna Nombre remplace “Field1” y colóquele dni, ese nombre será una columna de su tabla.\\\n",
    "    g. Además, elija dentro de las opciones del Tipo, el valor INTEGER.\\\n",
    "    h. A continuación, presione en Aceptar.\n",
    "\n",
    "    ENVÍE UNA CAPTURA COMO LA QUE APARECE EN LA IMAGEN, EN DONDE SE VEA LA TABLA CON SU NOMBRE Y LA COLUMNA dni.\n",
    "\n",
    "3. Revise las pestañas: Estructura y Ejecutar SQL. Ambas son muy importantes para ejecutar código y visualizar los datos.\n",
    "\n",
    "Presione Control + S, para guardar cambios en la BD. Puede cerrar el programa.\n",
    "\n",
    "Para ver el enunciado con más detalle: <a href=\"Enunciados\\Actividad 1.pdf\">Actividad 1</a>"
   ]
  },
  {
   "cell_type": "markdown",
   "metadata": {},
   "source": [
    "<img src=\"img\\RActividad1.jpg\">"
   ]
  },
  {
   "cell_type": "markdown",
   "metadata": {},
   "source": [
    "# Actividad 2"
   ]
  },
  {
   "cell_type": "markdown",
   "metadata": {},
   "source": [
    "1. Genere una base de datos, colóquele un nombre y guárdelo. Luego agregue las siguientes tablas: (utilice el código que se les proporciona)\\\n",
    "    Para crear las tablas, abra el archivo tablas.txt y para cada bloque de código copie y péguelo en el espacio de consultas SQL y ejecútelo.\n",
    "\n",
    "2. Escriba 4 consultas (sentencias) de SQL distintas utilizando SELECT, FROM y WHERE.\n",
    "\n",
    "3. Guarde las consultas en un archivo txt y súbalo publíquelo en el foro.\n",
    "\n",
    "Para ver el enunciado con más detalle: <a href=\"Enunciados\\Actividad 2.pdf\">Actividad 2</a>"
   ]
  },
  {
   "cell_type": "markdown",
   "metadata": {},
   "source": [
    "## Codigo Proporcionado"
   ]
  },
  {
   "cell_type": "code",
   "execution_count": null,
   "metadata": {},
   "outputs": [],
   "source": [
    "CREATE TABLE Alumno (\n",
    "  idAlumno INT PRIMARY KEY,\n",
    "  nombre VARCHAR(50),\n",
    "  apellido VARCHAR(50),\n",
    "  fechaNacimiento DATE,\n",
    "  direccion VARCHAR(100),\n",
    "  telefono VARCHAR(20)\n",
    ");\n",
    "\n",
    "\n",
    "CREATE TABLE Curso (\n",
    "  idCurso INT PRIMARY KEY,\n",
    "  nombre VARCHAR(100),\n",
    "  descripcion TEXT,\n",
    "  fechaInicio DATE,\n",
    "  fechaFin DATE\n",
    ");\n",
    "\n",
    "\n",
    "CREATE TABLE Inscripcion (\n",
    "  idInscripcion INT PRIMARY KEY,\n",
    "  idAlumno INT,\n",
    "  idCurso INT,\n",
    "  fechaInscripcion DATE,\n",
    "  FOREIGN KEY (idAlumno) REFERENCES Alumno(idAlumno),\n",
    "  FOREIGN KEY (idCurso) REFERENCES Curso(idCurso)\n",
    ");"
   ]
  },
  {
   "cell_type": "markdown",
   "metadata": {},
   "source": [
    "## Sentencias SQL"
   ]
  },
  {
   "cell_type": "code",
   "execution_count": null,
   "metadata": {},
   "outputs": [],
   "source": [
    "SELECT * FROM Alumno;\n",
    "\n",
    "SELECT nombre, descripcion, fechaInicio FROM Curso;\n",
    "\n",
    "SELECT descripcion, fechaInicio, fechaFin FROM Curso WHERE nombre = \"Python\";\n",
    "\n",
    "SELECT direccion, telefono FROM Alumno WHERE nombre = \"S%\" AND apellido = \"B%\";"
   ]
  }
 ],
 "metadata": {
  "language_info": {
   "name": "python"
  }
 },
 "nbformat": 4,
 "nbformat_minor": 2
}
